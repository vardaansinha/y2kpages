{
 "cells": [
  {
   "attachments": {},
   "cell_type": "markdown",
   "metadata": {},
   "source": [
    "---\n",
    "toc: true\n",
    "comments: true\n",
    "layout: post\n",
    "title: Section 1.1 and 1.2\n",
    "description: the lesson for the section 1.1 and 1.2\n",
    "courses: { csa: {week: 5} }\n",
    "type: hacks\n",
    "---"
   ]
  },
  {
   "attachments": {},
   "cell_type": "markdown",
   "metadata": {},
   "source": [
    "### Example:"
   ]
  },
  {
   "attachments": {},
   "cell_type": "markdown",
   "metadata": {},
   "source": [
    "# SECTION 1.1\n",
    "\n",
    "## Why does java matter?\n",
    "\n",
    "one of the main reason that java is such an important language in the coding world is because it is a object-oriented-programming (OOP) language. \n",
    "\n",
    "it offers a structure that is easy to solve big problems. but i think that we all know that so lets skip to the real deal. \n",
    "\n",
    "\n",
    "## Basics of Java\n",
    "\n",
    "- Block Comments- The compiler will ignore any text between /* and */\n",
    "\n",
    "- line comments- Same as above but // ignores one line\n",
    "\n",
    "- Class Declaration - identifies the name, the start and the end of the class. <b> the class name must match the file name. (case sensitive) </b>\n",
    "\n",
    "- main Method- controls all of the action in the program. \n",
    "\n",
    "- system.out- objects that generate output to the console\n",
    "\n",
    "- system.out.print- prints what ever you out inside the ()\n",
    "\n",
    "- system.out.println- prints whatever is one the screen and moves to the next line to print out the next action. basically hits enter after it prints out. \n",
    "\n",
    "\n",
    "\n",
    "tip: add \"`<classname>.main(null)`\" at the end of your code to see the output in your jupyter notebook. "
   ]
  },
  {
   "cell_type": "code",
   "execution_count": 16,
   "metadata": {
    "vscode": {
     "languageId": "java"
    }
   },
   "outputs": [
    {
     "name": "stdout",
     "output_type": "stream",
     "text": [
      "Hello, World!\n",
      "Hello, World!"
     ]
    }
   ],
   "source": [
    "/* this is a\n",
    "   code block */\n",
    "\n",
    "\n",
    "// code: printing out hello world. \n",
    "\n",
    "public class greeting {\n",
    "    public static void main (String [] args) {\n",
    "\n",
    "        System.out.println(\"Hello, World!\");\n",
    "        System.out.print(\"Hello,\");\n",
    "        System.out.print(\" World!\"); \n",
    "    }\n",
    "}\n",
    "\n",
    "greeting.main(null)"
   ]
  },
  {
   "attachments": {},
   "cell_type": "markdown",
   "metadata": {},
   "source": [
    "## What is a string literal?\n",
    "\n",
    "- any sequence of letters, numbers, or symbols that is put between quotes. \n",
    "- java will put out anything in the quotes, no restrictions. \n",
    "\n",
    "Examples: "
   ]
  },
  {
   "cell_type": "code",
   "execution_count": 19,
   "metadata": {
    "vscode": {
     "languageId": "java"
    }
   },
   "outputs": [
    {
     "name": "stdout",
     "output_type": "stream",
     "text": [
      "This is a string literal.\n",
      "and so are these\n",
      "1234567890\n",
      "&^&*%^$&%$#^%W#*^$%&(*^)\n"
     ]
    }
   ],
   "source": [
    "public class stingLiterals {\n",
    "    public static void main (String [] args) {\n",
    "\n",
    "        System.out.println(\"This is a string literal.\");\n",
    "        System.out.println(\"and so are these\");\n",
    "        System.out.println(\"1234567890\"); \n",
    "        System.out.println(\"&^&*%^$&%$#^%W#*^$%&(*^)\"); \n",
    "    }\n",
    "}\n",
    "\n",
    "stingLiterals.main(null)"
   ]
  },
  {
   "attachments": {},
   "cell_type": "markdown",
   "metadata": {},
   "source": [
    "## ERRORS!!!!!!"
   ]
  },
  {
   "attachments": {},
   "cell_type": "markdown",
   "metadata": {},
   "source": [
    "### Syntax/compiler error:\n",
    "\n",
    "- messed up syntax\n",
    "- compiler is not happy >:("
   ]
  },
  {
   "cell_type": "code",
   "execution_count": 1,
   "metadata": {
    "vscode": {
     "languageId": "java"
    }
   },
   "outputs": [
    {
     "name": "stdout",
     "output_type": "stream",
     "text": [
      "This is a syntax error.\n"
     ]
    }
   ],
   "source": [
    "\n",
    "public class syntaxError {\n",
    "    public static void main (String [] args) {\n",
    "\n",
    "        System.out.println(\"This is a syntax error.\");\n",
    "    }\n",
    "}\n",
    "\n",
    "syntaxError.main(null)"
   ]
  },
  {
   "attachments": {},
   "cell_type": "markdown",
   "metadata": {},
   "source": [
    "### Logic Error\n",
    "\n",
    "- compiler is happy\n",
    "- messed up in the string literals\n",
    "- code works perfectly"
   ]
  },
  {
   "attachments": {},
   "cell_type": "markdown",
   "metadata": {},
   "source": []
  },
  {
   "cell_type": "code",
   "execution_count": 23,
   "metadata": {
    "vscode": {
     "languageId": "java"
    }
   },
   "outputs": [
    {
     "name": "stdout",
     "output_type": "stream",
     "text": [
      "This is a leogic error.\n"
     ]
    }
   ],
   "source": [
    "public class logicError {\n",
    "    public static void main (String [] args) {\n",
    "\n",
    "        System.out.println(\"This is a leogic error.\");\n",
    "\n",
    "    }\n",
    "}\n",
    "\n",
    "logicError.main(null)"
   ]
  },
  {
   "attachments": {},
   "cell_type": "markdown",
   "metadata": {},
   "source": [
    "### exception error: "
   ]
  },
  {
   "cell_type": "code",
   "execution_count": 2,
   "metadata": {
    "vscode": {
     "languageId": "java"
    }
   },
   "outputs": [
    {
     "name": "stdout",
     "output_type": "stream",
     "text": [
      "Result: 2\n"
     ]
    }
   ],
   "source": [
    "public class exceptionError {\n",
    "    public static void main(String[] args) {\n",
    "        try {\n",
    "\n",
    "            int result = 2 / 1;\n",
    "            System.out.println(\"Result: \" + result);\n",
    "        } catch (ArithmeticException e) {  \n",
    "            e.printStackTrace();\n",
    "        }\n",
    "    }\n",
    "}\n",
    "exceptionError.main(null)\n"
   ]
  },
  {
   "attachments": {},
   "cell_type": "markdown",
   "metadata": {},
   "source": [
    "______\n",
    "\n",
    "# SECTION 1.2\n",
    "## Variable and Data Types.  \n",
    "\n",
    "## Primitive Data\n",
    "- determines the size and type of data can we can worth with in a java program. \n",
    "- focus on three different types that can we can represent data. \n",
    "\n",
    "\n",
    "#### Smallest to biggest:\n",
    "\n",
    "Boolean, takes up 1 bit. \n",
    "- true or false\n",
    "\n",
    "\n",
    "Int, take up 32 bit\n",
    "- whole number values.\n",
    "- add, subtract, multiply, etc. \n",
    "\n",
    "Doubles, AKA Floating point numbers. 64 bit\n",
    "- same as integers\n",
    "\n",
    "String\n",
    "- \"Hello World!\"\n",
    "\n",
    "\n",
    "\n",
    "Reference Purposes\n",
    "\n",
    "(the collegeboard person used bows as reference so will i.)\n",
    "- there can be small bow\n",
    "- a medium bow\n",
    "- a red bow\n",
    "- a large red bow\n",
    "\n",
    "\n",
    "\n",
    "### What is the difference?\n",
    "\n",
    "- primitive data are already in java, you don't have to make it. Except for string, which is created by the programmer. \n",
    "- non-primitive data can be use methods to perform actions, but primitive data cannot. \n",
    "\n"
   ]
  },
  {
   "attachments": {},
   "cell_type": "markdown",
   "metadata": {},
   "source": [
    "\n",
    "## Primitive Activity\n",
    "#### MIX&MATCH\n",
    "\n",
    "\n",
    "```\n",
    "Choices:\n",
    "1. int\n",
    "2. double\n",
    "3. boolean\n",
    "4. String\n",
    "\n",
    "\n",
    "\n",
    "boolean: False\n",
    "\n",
    "string: \"ryan gosling\"\n",
    "\n",
    "int: 1738\n",
    "\n",
    "double: 4.26\n",
    "```\n",
    "\n",
    "#### Questions:\n",
    "\n",
    "what type of data should be used to store\n",
    "\n",
    "- someones bank number and cvc?\n",
    "\n",
    "**This would probably use a double**\n",
    "\n",
    "- someones mother's maiden name and their name?\n",
    "\n",
    "**This is letters/words, this would be a string**\n",
    "\n",
    "- the first 16 digits of pi\n",
    "\n",
    "**This would also be a double**\n",
    "\n",
    "- if you want to transact one million $. \n",
    "\n",
    "**Would likely be able to use an int**\n",
    "\n"
   ]
  },
  {
   "attachments": {},
   "cell_type": "markdown",
   "metadata": {},
   "source": [
    "## Variables\n",
    "\n",
    "A name given to a memory location that is holding a specified type of value.\n",
    "\n",
    "### how to name a variable (omg this is so hard !)\n",
    "\n",
    "- may consists of letters, digits, or an underscore (case sensitive)\n",
    "\n",
    "- may not start with a digit\n",
    "- space are a big no no\n",
    "- may not use other characters as &,@, or #\n",
    "- may not used java reserved words\n",
    "\n",
    "\n",
    "#### Tip!\n",
    "\n",
    "use camel casing when naming a variables.\n",
    "\n",
    "#### example: \n",
    "\n",
    "thisIsCamelCasing\n",
    "\n",
    "\n",
    "\n",
    "### Declare variables:\n",
    "\n",
    "The three primitiva data types in Java:\n",
    "- integers (whole #): `int`\n",
    "- Decimal numbers (floating-point values): `double`\n",
    "- Boolean values (true/false): `boolean`\n",
    "\n",
    "\n",
    "#### Format:\n",
    "\n",
    "dataType varibleName;\n",
    "\n",
    "#### Example\n",
    "\n",
    "`int total;`\n",
    "\n",
    "`boolean outcome;`\n",
    "\n",
    "`double firstFifteenPi;`\n",
    "\n",
    "\n",
    "### what if you don't want to change the variable's value after given?\n",
    "\n",
    "add final in front of the declaration:\n",
    "\n",
    "`final double PI;`\n",
    "\n",
    "`final boolean WORKOUT_DECISION; `\n",
    "\n",
    "for final variables, use all caps and underscore when naming them. \n",
    "\n"
   ]
  },
  {
   "attachments": {},
   "cell_type": "markdown",
   "metadata": {},
   "source": [
    "## Practice\n",
    "\n",
    "### Find the odd one out.\n",
    "\n",
    "\n",
    "```int value; \n",
    "\n",
    "double 4eva;\n",
    "\n",
    "boolean public;\n",
    "\n",
    "integer sum;\n",
    "\n",
    "double wow!; \n",
    "\n",
    "boolean foundIt; \n",
    "\n",
    "int numberOfPigs; \n",
    "\n",
    "double chanceOfRain;\n",
    "\n",
    "boolean #apDaily;\n",
    "\n",
    "int count;\n",
    "\n",
    "bool isFriday; \n",
    "\n",
    "final int DOZEN;\n",
    "```\n",
    "\n",
    "\n",
    "**ODD ONES OUT (MULTIPLE)**:\n",
    "\n",
    "1. double wow!\n",
    "\n",
    "This would not work, as there cannot be an exclamation mark in the name of the variable.\n",
    "\n",
    "2. boolean #apDaily\n",
    "\n",
    "A variable name cannot start with a hashtag, or any special character for that matter.\n",
    "\n",
    "3. double 4eva\n",
    "\n",
    "I don't think a variable name can start with a number in Java."
   ]
  }
 ],
 "metadata": {
  "kernelspec": {
   "display_name": "Java",
   "language": "java",
   "name": "java"
  },
  "language_info": {
   "codemirror_mode": "java",
   "file_extension": ".jshell",
   "mimetype": "text/x-java-source",
   "name": "Java",
   "pygments_lexer": "java",
   "version": "11.0.20+8-post-Ubuntu-1ubuntu120.04"
  },
  "orig_nbformat": 4
 },
 "nbformat": 4,
 "nbformat_minor": 2
}
