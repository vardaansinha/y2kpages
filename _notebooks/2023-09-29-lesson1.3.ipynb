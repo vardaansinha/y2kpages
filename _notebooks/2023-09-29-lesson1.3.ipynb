{
 "cells": [
  {
   "attachments": {},
   "cell_type": "markdown",
   "metadata": {},
   "source": [
    "---\n",
    "layout: post\n",
    "title: CollegeBoard 1.3\n",
    "description: yeah\n",
    "toc: true\n",
    "type: hacks\n",
    "---"
   ]
  },
  {
   "attachments": {},
   "cell_type": "markdown",
   "metadata": {},
   "source": [
    "## 1.3 Main Topics\n",
    "### Literal vs String Literal\n",
    "\n",
    "### Arithmetic operators\n",
    "- Additon\n",
    "- Minus\n",
    "- Multiply\n",
    "- Divide\n",
    "- Mod\n",
    "\n",
    "### Arthemtic expressions\n",
    "- Int\n",
    "- Double\n",
    "    \n",
    "### Assigment Operator\n",
    "- = vs ==\n",
    "\n",
    "# Demo 1"
   ]
  },
  {
   "cell_type": "code",
   "execution_count": 1,
   "metadata": {
    "vscode": {
     "languageId": "java"
    }
   },
   "outputs": [
    {
     "name": "stdout",
     "output_type": "stream",
     "text": [
      "33\n",
      "1\n",
      "3.0\n"
     ]
    }
   ],
   "source": [
    "public class demo {\n",
    "    public static void main(String[] args) {\n",
    "        // Whats is the outputs between these two pieces of code\n",
    "        //\n",
    "        //\n",
    "        //\n",
    "\n",
    "        \n",
    "        \n",
    "        System.out.println(\"3\" + \"3\");  // 33\n",
    "        System.out.println(3 / 2);   // 1\n",
    "        System.out.println(2.0 * 1.5); // 3.0\n",
    "        \n",
    "    }\n",
    "}\n",
    "\n",
    "demo.main(null);"
   ]
  },
  {
   "attachments": {},
   "cell_type": "markdown",
   "metadata": {},
   "source": [
    "# Cheat Sheet\n",
    "\n",
    "## Literal\n",
    "- The source code representation of a fixed value\n",
    "\n",
    "## String Literal\n",
    "- Something enclosed in double qoutes\n",
    "\n",
    "\n",
    "## Assigment Operator\n",
    "- = is an assigment operator\n",
    "- == is repesents just normal =\n",
    "- Assigment Operators moves right to left\n",
    "- X = Y = Z = 2;\n",
    "- Why is 7 = x; a non valid peice of code\n",
    "- \n",
    "\n",
    "## PEMDAS\n",
    "- Java uses PEMDAS still but a tiny bit different\n",
    "\n",
    "### Order\n",
    "1. ()\n",
    "2. ^\n",
    "3. *, /, %\n",
    "4. +, -\n",
    "\n",
    "## Primative Data Types\n",
    "![img](http://orion.towson.edu/~izimand/237/LectureNotes/L3-PrimitiveDataTypes.JPG)\n",
    "\n",
    "## Operation vs Result\n",
    "- The bigger data type will always be the resulting output\n",
    "- If you were to add a double and a int what would be the result?\n",
    "- \n",
    "\n",
    "# Demo 2"
   ]
  },
  {
   "cell_type": "code",
   "execution_count": 3,
   "metadata": {
    "vscode": {
     "languageId": "java"
    }
   },
   "outputs": [
    {
     "name": "stdout",
     "output_type": "stream",
     "text": [
      "1\n"
     ]
    }
   ],
   "source": [
    "public class demo2 {\n",
    "    public static void main(String[] args) {\n",
    "        // Print a math equation that goes through these steps\n",
    "        // Adds 19 + 134\n",
    "        // Multiplies that value by 5\n",
    "        // Then takes the mod of that value by 2\n",
    "        // It should print 1\n",
    "\n",
    "        System.out.println( (19 + 134) * 5 % 2);\n",
    "    }\n",
    "}\n",
    "\n",
    "demo2.main(null);"
   ]
  },
  {
   "attachments": {},
   "cell_type": "markdown",
   "metadata": {},
   "source": [
    "# OddEven"
   ]
  },
  {
   "cell_type": "code",
   "execution_count": 4,
   "metadata": {
    "vscode": {
     "languageId": "java"
    }
   },
   "outputs": [
    {
     "name": "stdout",
     "output_type": "stream",
     "text": [
      "1 is odd\n",
      "3 is odd\n",
      "5 is odd\n",
      "7 is odd\n",
      "9 is odd\n"
     ]
    }
   ],
   "source": [
    "public class OddEven {\n",
    "\n",
    "    // Print only odd numbers\n",
    "\n",
    "    public static void main(String[] args) {\n",
    "        int num = 2;\n",
    "        int i = 0;\n",
    "        while (i <= 10) {\n",
    "            if (i % num == 1) {\n",
    "                System.out.println(i + \" is odd\");\n",
    "            }\n",
    "            i++;\n",
    "        }\n",
    "    }\n",
    "}\n",
    "\n",
    "OddEven.main(null);"
   ]
  }
 ],
 "metadata": {
  "kernelspec": {
   "display_name": "Java",
   "language": "java",
   "name": "java"
  },
  "language_info": {
   "codemirror_mode": "java",
   "file_extension": ".jshell",
   "mimetype": "text/x-java-source",
   "name": "Java",
   "pygments_lexer": "java",
   "version": "11.0.20+8-post-Ubuntu-1ubuntu120.04"
  },
  "orig_nbformat": 4
 },
 "nbformat": 4,
 "nbformat_minor": 2
}
